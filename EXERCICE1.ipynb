{
 "cells": [
  {
   "cell_type": "code",
   "execution_count": null,
   "metadata": {},
   "outputs": [],
   "source": []
  },
  {
   "cell_type": "markdown",
   "metadata": {},
   "source": [
    "1-Un service web permet la facilitation des communications entre différentes applications (clients et serveurs), c'est une \"plateforme\" commune à chacune de ces applications. Le client invoque le service  web, par le biais du serveurs qui contient les services.\n",
    "\n"
   ]
  },
  {
   "cell_type": "markdown",
   "metadata": {},
   "source": [
    "2-Une API REST est un genre d'architecture qui va permettre la communication entre différents logiciels. Cette technique est utilisée dans le développement de services internet. C'est donc une \"interface de programme d'application\" qui va régir comment les applications vont se connecter et communiquer entre eux en fixant un certain nombre de règles. Cela s'appuie sur HTTP pour l'échange de donnés le plus souvent sous le format JSON qui est un format d'échange conçu pour gérer des de données."
   ]
  },
  {
   "cell_type": "markdown",
   "metadata": {},
   "source": [
    "3-FastAPI est un framework Web moderne qui permet de créer des API de façon simple et rapide."
   ]
  }
 ],
 "metadata": {
  "language_info": {
   "name": "python"
  },
  "orig_nbformat": 4
 },
 "nbformat": 4,
 "nbformat_minor": 2
}
